{
 "cells": [
  {
   "cell_type": "markdown",
   "metadata": {},
   "source": [
    "## Author: Zachary Ciemniecki\n",
    "## Date: 4/2/2020\n",
    "## CS301-006, Professor Watson\n",
    "## HW06 Solution\n",
    "\n",
    "The purpose of this assignment is to help students practice using Python to prepare their data sets for machine learning.\n",
    "\n",
    "link to the git repo:https://github.com/zcskywire2/cs301-hw6"
   ]
  },
  {
   "cell_type": "code",
   "execution_count": 215,
   "metadata": {},
   "outputs": [],
   "source": [
    "import pandas as pd\n",
    "import numpy as np"
   ]
  },
  {
   "cell_type": "markdown",
   "metadata": {},
   "source": [
    "#### Question 1 - Read in the data set and print the % empty values for each column. Are there any columns with missing values?"
   ]
  },
  {
   "cell_type": "code",
   "execution_count": 216,
   "metadata": {},
   "outputs": [],
   "source": [
    "data_dir = 'C:\\\\Users\\\\zcskywire2\\\\Downloads\\\\groundhog.csv'"
   ]
  },
  {
   "cell_type": "code",
   "execution_count": 217,
   "metadata": {},
   "outputs": [
    {
     "data": {
      "text/html": [
       "<div>\n",
       "<style scoped>\n",
       "    .dataframe tbody tr th:only-of-type {\n",
       "        vertical-align: middle;\n",
       "    }\n",
       "\n",
       "    .dataframe tbody tr th {\n",
       "        vertical-align: top;\n",
       "    }\n",
       "\n",
       "    .dataframe thead th {\n",
       "        text-align: right;\n",
       "    }\n",
       "</style>\n",
       "<table border=\"1\" class=\"dataframe\">\n",
       "  <thead>\n",
       "    <tr style=\"text-align: right;\">\n",
       "      <th></th>\n",
       "      <th>Unnamed: 0</th>\n",
       "      <th>Year</th>\n",
       "      <th>Punxsutawney Phil</th>\n",
       "      <th>February Average Temperature</th>\n",
       "      <th>February Average Temperature (Northeast)</th>\n",
       "      <th>February Average Temperature (Midwest)</th>\n",
       "      <th>February Average Temperature (Pennsylvania)</th>\n",
       "      <th>March Average Temperature</th>\n",
       "      <th>March Average Temperature (Northeast)</th>\n",
       "      <th>March Average Temperature (Midwest)</th>\n",
       "      <th>March Average Temperature (Pennsylvania)</th>\n",
       "    </tr>\n",
       "  </thead>\n",
       "  <tbody>\n",
       "    <tr>\n",
       "      <td>0</td>\n",
       "      <td>0</td>\n",
       "      <td>1886</td>\n",
       "      <td>No Record</td>\n",
       "      <td>NaN</td>\n",
       "      <td>NaN</td>\n",
       "      <td>NaN</td>\n",
       "      <td>NaN</td>\n",
       "      <td>NaN</td>\n",
       "      <td>NaN</td>\n",
       "      <td>NaN</td>\n",
       "      <td>NaN</td>\n",
       "    </tr>\n",
       "    <tr>\n",
       "      <td>1</td>\n",
       "      <td>1</td>\n",
       "      <td>1887</td>\n",
       "      <td>Full Shadow</td>\n",
       "      <td>NaN</td>\n",
       "      <td>NaN</td>\n",
       "      <td>NaN</td>\n",
       "      <td>NaN</td>\n",
       "      <td>NaN</td>\n",
       "      <td>NaN</td>\n",
       "      <td>NaN</td>\n",
       "      <td>NaN</td>\n",
       "    </tr>\n",
       "    <tr>\n",
       "      <td>2</td>\n",
       "      <td>2</td>\n",
       "      <td>1888</td>\n",
       "      <td>Full Shadow</td>\n",
       "      <td>NaN</td>\n",
       "      <td>NaN</td>\n",
       "      <td>NaN</td>\n",
       "      <td>NaN</td>\n",
       "      <td>NaN</td>\n",
       "      <td>NaN</td>\n",
       "      <td>NaN</td>\n",
       "      <td>NaN</td>\n",
       "    </tr>\n",
       "    <tr>\n",
       "      <td>3</td>\n",
       "      <td>3</td>\n",
       "      <td>1889</td>\n",
       "      <td>No Record</td>\n",
       "      <td>NaN</td>\n",
       "      <td>NaN</td>\n",
       "      <td>NaN</td>\n",
       "      <td>NaN</td>\n",
       "      <td>NaN</td>\n",
       "      <td>NaN</td>\n",
       "      <td>NaN</td>\n",
       "      <td>NaN</td>\n",
       "    </tr>\n",
       "    <tr>\n",
       "      <td>4</td>\n",
       "      <td>4</td>\n",
       "      <td>1890</td>\n",
       "      <td>No Shadow</td>\n",
       "      <td>NaN</td>\n",
       "      <td>NaN</td>\n",
       "      <td>NaN</td>\n",
       "      <td>NaN</td>\n",
       "      <td>NaN</td>\n",
       "      <td>NaN</td>\n",
       "      <td>NaN</td>\n",
       "      <td>NaN</td>\n",
       "    </tr>\n",
       "  </tbody>\n",
       "</table>\n",
       "</div>"
      ],
      "text/plain": [
       "   Unnamed: 0  Year Punxsutawney Phil  February Average Temperature  \\\n",
       "0           0  1886         No Record                           NaN   \n",
       "1           1  1887       Full Shadow                           NaN   \n",
       "2           2  1888       Full Shadow                           NaN   \n",
       "3           3  1889         No Record                           NaN   \n",
       "4           4  1890         No Shadow                           NaN   \n",
       "\n",
       "   February Average Temperature (Northeast)  \\\n",
       "0                                       NaN   \n",
       "1                                       NaN   \n",
       "2                                       NaN   \n",
       "3                                       NaN   \n",
       "4                                       NaN   \n",
       "\n",
       "   February Average Temperature (Midwest)  \\\n",
       "0                                     NaN   \n",
       "1                                     NaN   \n",
       "2                                     NaN   \n",
       "3                                     NaN   \n",
       "4                                     NaN   \n",
       "\n",
       "   February Average Temperature (Pennsylvania)  March Average Temperature  \\\n",
       "0                                          NaN                        NaN   \n",
       "1                                          NaN                        NaN   \n",
       "2                                          NaN                        NaN   \n",
       "3                                          NaN                        NaN   \n",
       "4                                          NaN                        NaN   \n",
       "\n",
       "   March Average Temperature (Northeast)  March Average Temperature (Midwest)  \\\n",
       "0                                    NaN                                  NaN   \n",
       "1                                    NaN                                  NaN   \n",
       "2                                    NaN                                  NaN   \n",
       "3                                    NaN                                  NaN   \n",
       "4                                    NaN                                  NaN   \n",
       "\n",
       "   March Average Temperature (Pennsylvania)  \n",
       "0                                       NaN  \n",
       "1                                       NaN  \n",
       "2                                       NaN  \n",
       "3                                       NaN  \n",
       "4                                       NaN  "
      ]
     },
     "execution_count": 217,
     "metadata": {},
     "output_type": "execute_result"
    }
   ],
   "source": [
    "df=pd.read_csv(data_dir)\n",
    "df.head()"
   ]
  },
  {
   "cell_type": "code",
   "execution_count": 218,
   "metadata": {
    "scrolled": true
   },
   "outputs": [
    {
     "name": "stdout",
     "output_type": "stream",
     "text": [
      "Unnamed: 0                                     False\n",
      "Year                                           False\n",
      "Punxsutawney Phil                              False\n",
      "February Average Temperature                    True\n",
      "February Average Temperature (Northeast)        True\n",
      "February Average Temperature (Midwest)          True\n",
      "February Average Temperature (Pennsylvania)     True\n",
      "March Average Temperature                       True\n",
      "March Average Temperature (Northeast)           True\n",
      "March Average Temperature (Midwest)             True\n",
      "March Average Temperature (Pennsylvania)        True\n",
      "dtype: bool\n"
     ]
    }
   ],
   "source": [
    "df_is_Missing = df.isna()\n",
    "print(df_is_Missing.any())"
   ]
  },
  {
   "cell_type": "code",
   "execution_count": 219,
   "metadata": {},
   "outputs": [
    {
     "name": "stdout",
     "output_type": "stream",
     "text": [
      "Unnamed: 0                                     0.000000\n",
      "Year                                           0.000000\n",
      "Punxsutawney Phil                              0.000000\n",
      "February Average Temperature                   0.068702\n",
      "February Average Temperature (Northeast)       0.068702\n",
      "February Average Temperature (Midwest)         0.068702\n",
      "February Average Temperature (Pennsylvania)    0.068702\n",
      "March Average Temperature                      0.068702\n",
      "March Average Temperature (Northeast)          0.068702\n",
      "March Average Temperature (Midwest)            0.068702\n",
      "March Average Temperature (Pennsylvania)       0.068702\n",
      "dtype: float64\n"
     ]
    }
   ],
   "source": [
    "percent = df_is_Missing.sum()/131\n",
    "print(percent) "
   ]
  },
  {
   "cell_type": "markdown",
   "metadata": {},
   "source": [
    "#### Question 2 - Create a new dataframe which is a copy of the orginal one. In this copy, replace the missing values in the data set using one of the discussed methods in class."
   ]
  },
  {
   "cell_type": "code",
   "execution_count": 220,
   "metadata": {},
   "outputs": [],
   "source": [
    "df2 = df.copy()"
   ]
  },
  {
   "cell_type": "code",
   "execution_count": 221,
   "metadata": {},
   "outputs": [
    {
     "name": "stdout",
     "output_type": "stream",
     "text": [
      "Unnamed: 0                                       65.000000\n",
      "Year                                           1951.000000\n",
      "February Average Temperature                     33.802705\n",
      "February Average Temperature (Northeast)         22.693443\n",
      "February Average Temperature (Midwest)           32.694262\n",
      "February Average Temperature (Pennsylvania)      26.522951\n",
      "March Average Temperature                        41.699016\n",
      "March Average Temperature (Northeast)            32.368033\n",
      "March Average Temperature (Midwest)              42.568852\n",
      "March Average Temperature (Pennsylvania)         35.908197\n",
      "dtype: float64\n",
      "     Unnamed: 0  Year Punxsutawney Phil  February Average Temperature  \\\n",
      "0             0  1886         No Record                     33.802705   \n",
      "1             1  1887       Full Shadow                     33.802705   \n",
      "2             2  1888       Full Shadow                     33.802705   \n",
      "3             3  1889         No Record                     33.802705   \n",
      "4             4  1890         No Shadow                     33.802705   \n",
      "..          ...   ...               ...                           ...   \n",
      "126         126  2012       Full Shadow                     37.510000   \n",
      "127         127  2013         No Shadow                     34.770000   \n",
      "128         128  2014       Full Shadow                     32.130000   \n",
      "129         129  2015       Full Shadow                     32.990000   \n",
      "130         130  2016         No Shadow                     39.470000   \n",
      "\n",
      "     February Average Temperature (Northeast)  \\\n",
      "0                                   22.693443   \n",
      "1                                   22.693443   \n",
      "2                                   22.693443   \n",
      "3                                   22.693443   \n",
      "4                                   22.693443   \n",
      "..                                        ...   \n",
      "126                                 30.600000   \n",
      "127                                 25.300000   \n",
      "128                                 21.000000   \n",
      "129                                 12.100000   \n",
      "130                                 28.100000   \n",
      "\n",
      "     February Average Temperature (Midwest)  \\\n",
      "0                                 32.694262   \n",
      "1                                 32.694262   \n",
      "2                                 32.694262   \n",
      "3                                 32.694262   \n",
      "4                                 32.694262   \n",
      "..                                      ...   \n",
      "126                               38.600000   \n",
      "127                               33.400000   \n",
      "128                               27.100000   \n",
      "129                               23.400000   \n",
      "130                               36.900000   \n",
      "\n",
      "     February Average Temperature (Pennsylvania)  March Average Temperature  \\\n",
      "0                                      26.522951                  41.699016   \n",
      "1                                      26.522951                  41.699016   \n",
      "2                                      26.522951                  41.699016   \n",
      "3                                      26.522951                  41.699016   \n",
      "4                                      26.522951                  41.699016   \n",
      "..                                           ...                        ...   \n",
      "126                                    34.300000                  50.410000   \n",
      "127                                    27.400000                  40.910000   \n",
      "128                                    22.800000                  40.510000   \n",
      "129                                    16.100000                  45.390000   \n",
      "130                                    30.800000                  47.500000   \n",
      "\n",
      "     March Average Temperature (Northeast)  \\\n",
      "0                                32.368033   \n",
      "1                                32.368033   \n",
      "2                                32.368033   \n",
      "3                                32.368033   \n",
      "4                                32.368033   \n",
      "..                                     ...   \n",
      "126                              43.400000   \n",
      "127                              32.700000   \n",
      "128                              26.000000   \n",
      "129                              27.800000   \n",
      "130                              38.800000   \n",
      "\n",
      "     March Average Temperature (Midwest)  \\\n",
      "0                              42.568852   \n",
      "1                              42.568852   \n",
      "2                              42.568852   \n",
      "3                              42.568852   \n",
      "4                              42.568852   \n",
      "..                                   ...   \n",
      "126                            56.300000   \n",
      "127                            37.300000   \n",
      "128                            38.000000   \n",
      "129                            41.600000   \n",
      "130                            49.500000   \n",
      "\n",
      "     March Average Temperature (Pennsylvania)  \n",
      "0                                   35.908197  \n",
      "1                                   35.908197  \n",
      "2                                   35.908197  \n",
      "3                                   35.908197  \n",
      "4                                   35.908197  \n",
      "..                                        ...  \n",
      "126                                 47.700000  \n",
      "127                                 33.900000  \n",
      "128                                 30.300000  \n",
      "129                                 31.600000  \n",
      "130                                 43.400000  \n",
      "\n",
      "[131 rows x 11 columns]\n"
     ]
    }
   ],
   "source": [
    "print(df2.mean())\n",
    "df2 =df2.fillna(df2.mean())\n",
    "print(df2)"
   ]
  },
  {
   "cell_type": "markdown",
   "metadata": {},
   "source": [
    "#### Question 3 - Is your proposed method from Question 2 appropriate in this case? Why or why not?"
   ]
  },
  {
   "cell_type": "markdown",
   "metadata": {},
   "source": [
    "Its passible using the average over the years for tempature is not great as it could easily be well above or below that mark but it would be hard to get true data"
   ]
  },
  {
   "cell_type": "markdown",
   "metadata": {},
   "source": [
    "#### Question 4 - Using the original dataframe (unchanged from Questoins 2, 3), create a mapping for the \"Punxsutawney Phil\" column which changes the categories into numerical quantities. For example: 'No Record' can be 0, 'No Shadow' can be 1, 'Partial Shadow' can be 2, and 'Full Shadow' can be 3. You should create the mapping *and* apply it to the data set by adding a new column called \"Shadow\"."
   ]
  },
  {
   "cell_type": "code",
   "execution_count": 222,
   "metadata": {},
   "outputs": [],
   "source": [
    "di = {'No Record': 0, 'No Shadow': 1, 'Partial Shadow' : 2, 'Full Shadow' : 3}"
   ]
  },
  {
   "cell_type": "code",
   "execution_count": 223,
   "metadata": {},
   "outputs": [
    {
     "name": "stdout",
     "output_type": "stream",
     "text": [
      "     Unnamed: 0  Year Punxsutawney Phil  February Average Temperature  \\\n",
      "9             9  1895         No Record                         26.60   \n",
      "10           10  1896         No Record                         35.04   \n",
      "11           11  1897         No Record                         33.39   \n",
      "12           12  1898       Full Shadow                         35.37   \n",
      "13           13  1899         No Record                         25.50   \n",
      "..          ...   ...               ...                           ...   \n",
      "126         126  2012       Full Shadow                         37.51   \n",
      "127         127  2013         No Shadow                         34.77   \n",
      "128         128  2014       Full Shadow                         32.13   \n",
      "129         129  2015       Full Shadow                         32.99   \n",
      "130         130  2016         No Shadow                         39.47   \n",
      "\n",
      "     February Average Temperature (Northeast)  \\\n",
      "9                                        15.6   \n",
      "10                                       22.2   \n",
      "11                                       23.6   \n",
      "12                                       24.8   \n",
      "13                                       18.1   \n",
      "..                                        ...   \n",
      "126                                      30.6   \n",
      "127                                      25.3   \n",
      "128                                      21.0   \n",
      "129                                      12.1   \n",
      "130                                      28.1   \n",
      "\n",
      "     February Average Temperature (Midwest)  \\\n",
      "9                                      21.9   \n",
      "10                                     33.5   \n",
      "11                                     34.7   \n",
      "12                                     33.3   \n",
      "13                                     22.2   \n",
      "..                                      ...   \n",
      "126                                    38.6   \n",
      "127                                    33.4   \n",
      "128                                    27.1   \n",
      "129                                    23.4   \n",
      "130                                    36.9   \n",
      "\n",
      "     February Average Temperature (Pennsylvania)  March Average Temperature  \\\n",
      "9                                           17.0                      39.97   \n",
      "10                                          26.6                      38.03   \n",
      "11                                          27.9                      38.79   \n",
      "12                                          26.7                      41.05   \n",
      "13                                          20.0                      37.63   \n",
      "..                                           ...                        ...   \n",
      "126                                         34.3                      50.41   \n",
      "127                                         27.4                      40.91   \n",
      "128                                         22.8                      40.51   \n",
      "129                                         16.1                      45.39   \n",
      "130                                         30.8                      47.50   \n",
      "\n",
      "     March Average Temperature (Northeast)  \\\n",
      "9                                     27.6   \n",
      "10                                    25.3   \n",
      "11                                    32.0   \n",
      "12                                    38.0   \n",
      "13                                    29.3   \n",
      "..                                     ...   \n",
      "126                                   43.4   \n",
      "127                                   32.7   \n",
      "128                                   26.0   \n",
      "129                                   27.8   \n",
      "130                                   38.8   \n",
      "\n",
      "     March Average Temperature (Midwest)  \\\n",
      "9                                   40.2   \n",
      "10                                  36.9   \n",
      "11                                  44.0   \n",
      "12                                  46.0   \n",
      "13                                  38.4   \n",
      "..                                   ...   \n",
      "126                                 56.3   \n",
      "127                                 37.3   \n",
      "128                                 38.0   \n",
      "129                                 41.6   \n",
      "130                                 49.5   \n",
      "\n",
      "     March Average Temperature (Pennsylvania)  \n",
      "9                                        31.3  \n",
      "10                                       27.8  \n",
      "11                                       36.9  \n",
      "12                                       42.0  \n",
      "13                                       34.0  \n",
      "..                                        ...  \n",
      "126                                      47.7  \n",
      "127                                      33.9  \n",
      "128                                      30.3  \n",
      "129                                      31.6  \n",
      "130                                      43.4  \n",
      "\n",
      "[122 rows x 11 columns]\n"
     ]
    }
   ],
   "source": [
    "df = df.dropna()\n",
    "print(df)"
   ]
  },
  {
   "cell_type": "markdown",
   "metadata": {},
   "source": [
    "#### Question 5 - For all rows which have no record, remove the rows which have empty values in all of the quantitative columns. (Only 6 should be removed.)"
   ]
  },
  {
   "cell_type": "code",
   "execution_count": 224,
   "metadata": {},
   "outputs": [
    {
     "name": "stdout",
     "output_type": "stream",
     "text": [
      "    Unnamed: 0  Year Punxsutawney Phil  February Average Temperature  \\\n",
      "9            9  1895         No Record                         26.60   \n",
      "10          10  1896         No Record                         35.04   \n",
      "11          11  1897         No Record                         33.39   \n",
      "12          12  1898       Full Shadow                         35.37   \n",
      "13          13  1899         No Record                         25.50   \n",
      "14          14  1900       Full Shadow                         30.76   \n",
      "15          15  1901       Full Shadow                         29.86   \n",
      "16          16  1902         No Record                         31.46   \n",
      "17          17  1903       Full Shadow                         28.42   \n",
      "18          18  1904       Full Shadow                         31.59   \n",
      "\n",
      "    February Average Temperature (Northeast)  \\\n",
      "9                                       15.6   \n",
      "10                                      22.2   \n",
      "11                                      23.6   \n",
      "12                                      24.8   \n",
      "13                                      18.1   \n",
      "14                                      21.4   \n",
      "15                                      16.0   \n",
      "16                                      20.1   \n",
      "17                                      24.5   \n",
      "18                                      15.0   \n",
      "\n",
      "    February Average Temperature (Midwest)  \\\n",
      "9                                     21.9   \n",
      "10                                    33.5   \n",
      "11                                    34.7   \n",
      "12                                    33.3   \n",
      "13                                    22.2   \n",
      "14                                    27.5   \n",
      "15                                    26.2   \n",
      "16                                    23.6   \n",
      "17                                    31.3   \n",
      "18                                    28.2   \n",
      "\n",
      "    February Average Temperature (Pennsylvania)  March Average Temperature  \\\n",
      "9                                          17.0                      39.97   \n",
      "10                                         26.6                      38.03   \n",
      "11                                         27.9                      38.79   \n",
      "12                                         26.7                      41.05   \n",
      "13                                         20.0                      37.63   \n",
      "14                                         24.1                      41.27   \n",
      "15                                         18.9                      40.71   \n",
      "16                                         21.0                      41.58   \n",
      "17                                         28.0                      42.21   \n",
      "18                                         19.2                      41.76   \n",
      "\n",
      "    March Average Temperature (Northeast)  \\\n",
      "9                                    27.6   \n",
      "10                                   25.3   \n",
      "11                                   32.0   \n",
      "12                                   38.0   \n",
      "13                                   29.3   \n",
      "14                                   26.0   \n",
      "15                                   30.8   \n",
      "16                                   37.1   \n",
      "17                                   40.4   \n",
      "18                                   29.8   \n",
      "\n",
      "    March Average Temperature (Midwest)  \\\n",
      "9                                  40.2   \n",
      "10                                 36.9   \n",
      "11                                 44.0   \n",
      "12                                 46.0   \n",
      "13                                 38.4   \n",
      "14                                 37.9   \n",
      "15                                 41.9   \n",
      "16                                 43.9   \n",
      "17                                 47.7   \n",
      "18                                 42.8   \n",
      "\n",
      "    March Average Temperature (Pennsylvania)  \n",
      "9                                       31.3  \n",
      "10                                      27.8  \n",
      "11                                      36.9  \n",
      "12                                      42.0  \n",
      "13                                      34.0  \n",
      "14                                      29.3  \n",
      "15                                      35.1  \n",
      "16                                      38.8  \n",
      "17                                      44.5  \n",
      "18                                      34.0  \n"
     ]
    }
   ],
   "source": [
    "print(df.head(10))"
   ]
  },
  {
   "cell_type": "code",
   "execution_count": 225,
   "metadata": {},
   "outputs": [
    {
     "name": "stdout",
     "output_type": "stream",
     "text": [
      "     Unnamed: 0  Year Punxsutawney Phil  February Average Temperature  \\\n",
      "9             9  1895         No Record                         26.60   \n",
      "10           10  1896         No Record                         35.04   \n",
      "11           11  1897         No Record                         33.39   \n",
      "12           12  1898       Full Shadow                         35.37   \n",
      "13           13  1899         No Record                         25.50   \n",
      "..          ...   ...               ...                           ...   \n",
      "126         126  2012       Full Shadow                         37.51   \n",
      "127         127  2013         No Shadow                         34.77   \n",
      "128         128  2014       Full Shadow                         32.13   \n",
      "129         129  2015       Full Shadow                         32.99   \n",
      "130         130  2016         No Shadow                         39.47   \n",
      "\n",
      "     February Average Temperature (Northeast)  \\\n",
      "9                                        15.6   \n",
      "10                                       22.2   \n",
      "11                                       23.6   \n",
      "12                                       24.8   \n",
      "13                                       18.1   \n",
      "..                                        ...   \n",
      "126                                      30.6   \n",
      "127                                      25.3   \n",
      "128                                      21.0   \n",
      "129                                      12.1   \n",
      "130                                      28.1   \n",
      "\n",
      "     February Average Temperature (Midwest)  \\\n",
      "9                                      21.9   \n",
      "10                                     33.5   \n",
      "11                                     34.7   \n",
      "12                                     33.3   \n",
      "13                                     22.2   \n",
      "..                                      ...   \n",
      "126                                    38.6   \n",
      "127                                    33.4   \n",
      "128                                    27.1   \n",
      "129                                    23.4   \n",
      "130                                    36.9   \n",
      "\n",
      "     February Average Temperature (Pennsylvania)  March Average Temperature  \\\n",
      "9                                           17.0                      39.97   \n",
      "10                                          26.6                      38.03   \n",
      "11                                          27.9                      38.79   \n",
      "12                                          26.7                      41.05   \n",
      "13                                          20.0                      37.63   \n",
      "..                                           ...                        ...   \n",
      "126                                         34.3                      50.41   \n",
      "127                                         27.4                      40.91   \n",
      "128                                         22.8                      40.51   \n",
      "129                                         16.1                      45.39   \n",
      "130                                         30.8                      47.50   \n",
      "\n",
      "     March Average Temperature (Northeast)  \\\n",
      "9                                     27.6   \n",
      "10                                    25.3   \n",
      "11                                    32.0   \n",
      "12                                    38.0   \n",
      "13                                    29.3   \n",
      "..                                     ...   \n",
      "126                                   43.4   \n",
      "127                                   32.7   \n",
      "128                                   26.0   \n",
      "129                                   27.8   \n",
      "130                                   38.8   \n",
      "\n",
      "     March Average Temperature (Midwest)  \\\n",
      "9                                   40.2   \n",
      "10                                  36.9   \n",
      "11                                  44.0   \n",
      "12                                  46.0   \n",
      "13                                  38.4   \n",
      "..                                   ...   \n",
      "126                                 56.3   \n",
      "127                                 37.3   \n",
      "128                                 38.0   \n",
      "129                                 41.6   \n",
      "130                                 49.5   \n",
      "\n",
      "     March Average Temperature (Pennsylvania)  \n",
      "9                                        31.3  \n",
      "10                                       27.8  \n",
      "11                                       36.9  \n",
      "12                                       42.0  \n",
      "13                                       34.0  \n",
      "..                                        ...  \n",
      "126                                      47.7  \n",
      "127                                      33.9  \n",
      "128                                      30.3  \n",
      "129                                      31.6  \n",
      "130                                      43.4  \n",
      "\n",
      "[122 rows x 11 columns]\n"
     ]
    }
   ],
   "source": [
    "df.drop(df.loc[df['Punxsutawney Phil']==0].index, inplace=True)\n",
    "print(df)"
   ]
  },
  {
   "cell_type": "markdown",
   "metadata": {},
   "source": [
    "#### Question 6 - For the remaining rows which have no record (but the other columns *are* populated), determine an appropriate method for inputting the value for this column. Explain your reasoning, and show your work below (using pandas)."
   ]
  },
  {
   "cell_type": "markdown",
   "metadata": {},
   "source": [
    "I personally dont think they should be there ( after runnin ahead and seeing thee rest of this homework) hoever since i must keep them I have above already turned them into int values and will keep them as such for the following"
   ]
  },
  {
   "cell_type": "code",
   "execution_count": null,
   "metadata": {},
   "outputs": [],
   "source": []
  },
  {
   "cell_type": "code",
   "execution_count": null,
   "metadata": {},
   "outputs": [],
   "source": []
  },
  {
   "cell_type": "markdown",
   "metadata": {},
   "source": [
    "#### Question 7 - If we are trying to write a machine learning program which predicts the type of shadow for the year, which column(s) should be the independent variables X? Why? \n",
    "\n",
    "#### Use pandas to assign a variable X to be all of the rows of the data set with the column(s) that represent the independent variables."
   ]
  },
  {
   "cell_type": "markdown",
   "metadata": {},
   "source": [
    "dependent is the outcome of an ai prediction so it should tbe the varible we want to predict, which is in this case is the shadow"
   ]
  },
  {
   "cell_type": "code",
   "execution_count": 226,
   "metadata": {},
   "outputs": [],
   "source": [
    "x = df[\"Punxsutawney Phil\"]"
   ]
  },
  {
   "cell_type": "code",
   "execution_count": 227,
   "metadata": {},
   "outputs": [
    {
     "name": "stdout",
     "output_type": "stream",
     "text": [
      "9        No Record\n",
      "10       No Record\n",
      "11       No Record\n",
      "12     Full Shadow\n",
      "13       No Record\n",
      "          ...     \n",
      "126    Full Shadow\n",
      "127      No Shadow\n",
      "128    Full Shadow\n",
      "129    Full Shadow\n",
      "130      No Shadow\n",
      "Name: Punxsutawney Phil, Length: 122, dtype: object\n"
     ]
    }
   ],
   "source": [
    "print(x)"
   ]
  },
  {
   "cell_type": "code",
   "execution_count": null,
   "metadata": {},
   "outputs": [],
   "source": []
  },
  {
   "cell_type": "markdown",
   "metadata": {},
   "source": [
    "#### Question 8 - If we are trying to write a machine learning program which predicts the type of shadow for the year, which column(s) should be the dependent variables Y? Why?  \n",
    "\n",
    "#### Use pandas to assign a variable Y to be all of the rows of the data set with the column(s) that represent the dependent variables."
   ]
  },
  {
   "cell_type": "markdown",
   "metadata": {},
   "source": [
    "independent is the data being fed into to make a prediction so there for its all the tempature values"
   ]
  },
  {
   "cell_type": "code",
   "execution_count": 228,
   "metadata": {},
   "outputs": [],
   "source": [
    "y = df.iloc[:, 4:12]"
   ]
  },
  {
   "cell_type": "code",
   "execution_count": 229,
   "metadata": {},
   "outputs": [
    {
     "name": "stdout",
     "output_type": "stream",
     "text": [
      "     February Average Temperature (Northeast)  \\\n",
      "9                                        15.6   \n",
      "10                                       22.2   \n",
      "11                                       23.6   \n",
      "12                                       24.8   \n",
      "13                                       18.1   \n",
      "..                                        ...   \n",
      "126                                      30.6   \n",
      "127                                      25.3   \n",
      "128                                      21.0   \n",
      "129                                      12.1   \n",
      "130                                      28.1   \n",
      "\n",
      "     February Average Temperature (Midwest)  \\\n",
      "9                                      21.9   \n",
      "10                                     33.5   \n",
      "11                                     34.7   \n",
      "12                                     33.3   \n",
      "13                                     22.2   \n",
      "..                                      ...   \n",
      "126                                    38.6   \n",
      "127                                    33.4   \n",
      "128                                    27.1   \n",
      "129                                    23.4   \n",
      "130                                    36.9   \n",
      "\n",
      "     February Average Temperature (Pennsylvania)  March Average Temperature  \\\n",
      "9                                           17.0                      39.97   \n",
      "10                                          26.6                      38.03   \n",
      "11                                          27.9                      38.79   \n",
      "12                                          26.7                      41.05   \n",
      "13                                          20.0                      37.63   \n",
      "..                                           ...                        ...   \n",
      "126                                         34.3                      50.41   \n",
      "127                                         27.4                      40.91   \n",
      "128                                         22.8                      40.51   \n",
      "129                                         16.1                      45.39   \n",
      "130                                         30.8                      47.50   \n",
      "\n",
      "     March Average Temperature (Northeast)  \\\n",
      "9                                     27.6   \n",
      "10                                    25.3   \n",
      "11                                    32.0   \n",
      "12                                    38.0   \n",
      "13                                    29.3   \n",
      "..                                     ...   \n",
      "126                                   43.4   \n",
      "127                                   32.7   \n",
      "128                                   26.0   \n",
      "129                                   27.8   \n",
      "130                                   38.8   \n",
      "\n",
      "     March Average Temperature (Midwest)  \\\n",
      "9                                   40.2   \n",
      "10                                  36.9   \n",
      "11                                  44.0   \n",
      "12                                  46.0   \n",
      "13                                  38.4   \n",
      "..                                   ...   \n",
      "126                                 56.3   \n",
      "127                                 37.3   \n",
      "128                                 38.0   \n",
      "129                                 41.6   \n",
      "130                                 49.5   \n",
      "\n",
      "     March Average Temperature (Pennsylvania)  \n",
      "9                                        31.3  \n",
      "10                                       27.8  \n",
      "11                                       36.9  \n",
      "12                                       42.0  \n",
      "13                                       34.0  \n",
      "..                                        ...  \n",
      "126                                      47.7  \n",
      "127                                      33.9  \n",
      "128                                      30.3  \n",
      "129                                      31.6  \n",
      "130                                      43.4  \n",
      "\n",
      "[122 rows x 7 columns]\n"
     ]
    }
   ],
   "source": [
    "print(y)"
   ]
  },
  {
   "cell_type": "code",
   "execution_count": null,
   "metadata": {},
   "outputs": [],
   "source": []
  },
  {
   "cell_type": "markdown",
   "metadata": {},
   "source": [
    "#### Question 9 - Using the train_test_split function from the sklearn module, use a 70/30 split validation to split the data set into train and test. If you follow the example at the following link: https://scikit-learn.org/stable/modules/generated/sklearn.model_selection.train_test_split.html\n",
    "\n",
    "Note: It's common practice to use the following variable names for unpacking the result:\n",
    "X_train, X_test, Y_train, Y_test = train_test_split(X, Y, test_size=(YOUR VALUE))\n",
    "\n",
    "sklearn will create a proper split where the following statements hold true:\n",
    "X_train is your train set independent variables\n",
    "Y_train is your train set dependent variables\n",
    "X_test is your test set independent variables\n",
    "Y_test is your test set dependent variables"
   ]
  },
  {
   "cell_type": "code",
   "execution_count": 231,
   "metadata": {},
   "outputs": [],
   "source": [
    "from sklearn.model_selection import train_test_split"
   ]
  },
  {
   "cell_type": "code",
   "execution_count": 233,
   "metadata": {},
   "outputs": [],
   "source": [
    "X_train, X_test, Y_train, Y_test = train_test_split(x, y, test_size=100)"
   ]
  },
  {
   "cell_type": "code",
   "execution_count": null,
   "metadata": {},
   "outputs": [],
   "source": []
  },
  {
   "cell_type": "markdown",
   "metadata": {},
   "source": [
    "#### Question 10 - Should the number of rows in X_train == number of rows in Y_train? Also, should the number of rows in X_test == Y_test? Why or why not? Validate your answer with code below:"
   ]
  },
  {
   "cell_type": "code",
   "execution_count": 238,
   "metadata": {},
   "outputs": [
    {
     "name": "stdout",
     "output_type": "stream",
     "text": [
      "22\n",
      "22\n",
      "100\n",
      "100\n"
     ]
    }
   ],
   "source": [
    "print(len(X_train))\n",
    "print(len(Y_train))\n",
    "print(len(X_test))\n",
    "print(len(Y_test))"
   ]
  },
  {
   "cell_type": "markdown",
   "metadata": {},
   "source": [
    "Yes they should always be the same lenght and the input and out put should have the same number of rows, other wise there is an issue where you got extra output or no output"
   ]
  }
 ],
 "metadata": {
  "kernelspec": {
   "display_name": "Python 3",
   "language": "python",
   "name": "python3"
  },
  "language_info": {
   "codemirror_mode": {
    "name": "ipython",
    "version": 3
   },
   "file_extension": ".py",
   "mimetype": "text/x-python",
   "name": "python",
   "nbconvert_exporter": "python",
   "pygments_lexer": "ipython3",
   "version": "3.7.4"
  }
 },
 "nbformat": 4,
 "nbformat_minor": 2
}
